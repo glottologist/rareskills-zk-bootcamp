{
 "cells": [
  {
   "cell_type": "markdown",
   "id": "1c1f0109-ff2c-4996-986c-8a91f9ac1645",
   "metadata": {},
   "source": [
    "# EDCSA from Scratch\n",
    "\n",
    "## Homework Guidelines\n",
    "\n",
    "Implement ECDSA from scratch. You want to use the secp256k1 curve. See here for a reference: https://www.rareskills.io/post/generate-ethereum-address-from-private-key-python\n",
    "\n",
    "1) pick a private key\n",
    "\n",
    "2) generate the public key using that private key (not the eth address, the public key)\n",
    "\n",
    "3) pick message m and hash it to produce h (h can be though of as a 256 bit number)\n",
    "\n",
    "4) sign m using your private key and a randomly chosen nonce k. produce (r, s, h, PubKey)\n",
    "\n",
    "5) verify (r, s, h, PubKey) is valid\n",
    "\n",
    "You may use a library for point multiplication, but everything else you must do from scratch"
   ]
  },
  {
   "cell_type": "markdown",
   "id": "cd01e96b-5499-407c-bb12-9c379778cf7d",
   "metadata": {},
   "source": [
    "## Answer\n",
    "\n",
    "First we will set up an object to define the parameters of the secp256k1 curve:\n",
    "\n",
    "p (int): The value of `p` in the curve equation.\n",
    "a (int): The value of `a` in the curve equation.\n",
    "b (int): The value of `b` in the curve equation.\n",
    "q (int): The order of the base point of the curve.\n",
    "gx (int): The x coordinate of the base point of the curve.\n",
    "gy (int): The y coordinate of the base point of the curve.\n",
    "\n",
    "(Also some helper functions to assist with checking is the point if on the curve etc)"
   ]
  },
  {
   "cell_type": "code",
   "execution_count": 2,
   "id": "fd46e13c-b519-4aac-83a7-114c3b0a3b72",
   "metadata": {
    "tags": []
   },
   "outputs": [],
   "source": [
    "class Secp256k1:\n",
    "    def __init__(self):\n",
    "        self.p = 0xFFFFFFFFFFFFFFFFFFFFFFFFFFFFFFFFFFFFFFFFFFFFFFFFFFFFFFFEFFFFFC2F\n",
    "        self.a = 0x0\n",
    "        self.b = 0x7\n",
    "        self.n = 0xFFFFFFFFFFFFFFFFFFFFFFFFFFFFFFFEBAAEDCE6AF48A03BBFD25E8CD0364141\n",
    "        self.gx = 0x79BE667EF9DCBBAC55A06295CE870B07029BFCDB2DCE28D959F2815B16F81798\n",
    "        self.gy = 0x483ADA7726A3C4655DA4FBFC0E1108A8FD17B448A68554199C47D08FFB10D4B8\n",
    "    \n",
    "    def is_given_point_on_the_curve(self, point: (int, int)) -> bool:\n",
    "        x, y, = point\n",
    "        if x == 0 and y == 0:\n",
    "            return True # Identity should be on the curve\n",
    "        left = (y**2) % self.p\n",
    "        right = (x**3 + self.a * x + self.b) % self.p\n",
    "        return left == right\n",
    "    \n",
    "    def check(self, x: int) -> int:\n",
    "        return (x ** 3 + self.a * x + self.b) % self.p\n",
    "    \n",
    "    def get_G(self) -> (int,int):\n",
    "        return (self.gx,self.gy)\n",
    "    \n",
    "    def __str__(self):\n",
    "        return f\"P|{self.p}|A={self.a}|B={self.b}|N={self.n}|Gx={self.gx}|Gy={self.gy}\"\n"
   ]
  },
  {
   "cell_type": "markdown",
   "id": "8b662a25-4fe5-48b1-9879-1114170d10cb",
   "metadata": {
    "tags": []
   },
   "source": [
    "Next define a class where we can encompass the point arithmetic"
   ]
  },
  {
   "cell_type": "code",
   "execution_count": 26,
   "id": "a2443734-4afd-4254-a0ce-5d34d1c023cd",
   "metadata": {
    "tags": []
   },
   "outputs": [],
   "source": [
    "class Point:\n",
    "    def __init__(self, x: int, y: int, curve: Secp256k1):\n",
    "        if curve is not None:\n",
    "            x = x % curve.p\n",
    "            y = y % curve.p\n",
    "\n",
    "        if not (x == 0 and y == 0) and not curve.is_given_point_on_the_curve((x, y)):\n",
    "            raise ValueError(\n",
    "                'x and y are not on curve x={} y={}'.format(x, y))\n",
    "        else:\n",
    "            self.x = x\n",
    "            self.y = y\n",
    "            self.curve = curve\n",
    "            \n",
    "    def __str__(self):\n",
    "        return f\"X={self.x}|Y={self.y} \\nCurve={self.curve}\"\n",
    "\n",
    "\n",
    "class Point_Utils:\n",
    "    \n",
    "    def identity() -> Point:\n",
    "        return Point(0, 0, None) \n",
    "    \n",
    "    def inverse(this:Point):\n",
    "        return Point(this.x, -this.y, this.curve)\n",
    "    \n",
    "    def double(that:Point) -> Point:\n",
    "        lambda_ = (3 * that.x**2 + that.curve.a) * pow(2 * that.y, -1, that.curve.p)\n",
    "        x_r = (lambda_**2 - 2 * that.x) % that.curve.p\n",
    "        y_r = (lambda_ * (that.x - x_r) - that.y) % that.curve.p\n",
    "        return Point(x_r, y_r,that.curve)\n",
    "                \n",
    "    def equals(this:Point,that:Point) -> bool:\n",
    "        return this.x == that.x and this.y == that.y \n",
    "    \n",
    "    def not_equal(this:Point, that:Point) -> bool:\n",
    "        return not Point_Utils.equals(this,that)\n",
    "    \n",
    "    def add(this:Point, that:Point) -> Point:\n",
    "        if this is None or this.curve is None:\n",
    "            return that\n",
    "       \n",
    "        if that is None or that.curve is None:\n",
    "            return this\n",
    "        \n",
    "        if Point_Utils.equals(this,that):\n",
    "            return Point_Utils.double(that)\n",
    "                          \n",
    "        if this.x == that.x:\n",
    "            return Point_Utils.identity()\n",
    "        \n",
    "        lambda_ = (that.y - this.y) * pow(that.x - this.x, -1,this.curve.p)\n",
    "\n",
    "        x3 = (lambda_**2 - this.x - that.x) % this.curve.p\n",
    "        y3 = (lambda_ * (this.x - x3) - this.y) % this.curve.p\n",
    "\n",
    "        return Point(x3, y3, this.curve)\n",
    "        \n",
    "        \n",
    "        \n",
    "    def sub(this:Point, that:Point) -> Point:\n",
    "        return add(this, Point(-that.x, -that.y))\n",
    "    \n",
    "    def mul(that:Point, k:int) -> Point:\n",
    "        R0 = Point_Utils.identity()\n",
    "        R1 = that\n",
    "        for bit in bin(k)[2:]:\n",
    "            if bit == '0':\n",
    "                R1 = Point_Utils.add(R0,R1)\n",
    "                R0 = Point_Utils.double(R0)\n",
    "            else:\n",
    "                R0 = Point_Utils.add(R0, R1)\n",
    "                R1 = Point_Utils.double(R1)\n",
    "        return R0\n",
    "        \n",
    "\n",
    "   "
   ]
  },
  {
   "cell_type": "markdown",
   "id": "31830df8-4998-440e-96e2-42e6f2c4c2d7",
   "metadata": {},
   "source": [
    "Tests for point arithmetic"
   ]
  },
  {
   "cell_type": "code",
   "execution_count": 39,
   "id": "786d5f91-0655-4094-856b-a2b782653fee",
   "metadata": {
    "tags": []
   },
   "outputs": [],
   "source": [
    "curve = Secp256k1()\n",
    "g_x,g_y = curve.get_G()\n",
    "\n",
    "## Adding and doubling\n",
    "\n",
    "# Result points lie in the curve\n",
    "a = Point(g_x,g_y,curve )\n",
    "\n",
    "b = Point_Utils.double(a)\n",
    "assert Point_Utils.not_equal(a,b)\n",
    "\n",
    "c = Point_Utils.add(a,b)\n",
    "assert Point_Utils.not_equal(a,c)\n",
    "assert Point_Utils.not_equal(c,b)\n",
    "\n",
    "assert c.curve.is_given_point_on_the_curve((c.x,c.y)) == True\n",
    "\n",
    "# Test a point addition with its inverse\n",
    "\n",
    "b_inv = Point_Utils.inverse(b)\n",
    "with_inv = Point_Utils.add(b,b_inv)\n",
    "assert Point_Utils.equals(with_inv, Point_Utils.identity())\n",
    "\n",
    "# Test addition with identity\n",
    "\n",
    "should_be_equal_to = Point_Utils.add(b,Point_Utils.identity())\n",
    "assert Point_Utils.equals(should_be_equal_to,b)\n",
    "\n",
    "# Test commutativity\n",
    "\n",
    "left_comm = Point_Utils.add(a,b)\n",
    "right_comm = Point_Utils.add(b,a)\n",
    "assert Point_Utils.equals(left_comm,right_comm)\n",
    "\n",
    "# Test associativity\n",
    "\n",
    "left_assoc = Point_Utils.add(a, Point_Utils.add(b,c))\n",
    "right_assoc = Point_Utils.add(Point_Utils.add(a,b),c)\n",
    "assert Point_Utils.add(left_assoc,right_assoc)\n",
    "\n",
    "## Multiplication\n",
    "\n",
    "# Test scalar mul of a point with itself\n",
    "\n",
    "c2 = Point_Utils.mul(c,2)\n",
    "c2add = Point_Utils.add(c,c)\n",
    "assert Point_Utils.equals(c2,c2add)\n",
    "\n"
   ]
  },
  {
   "cell_type": "markdown",
   "id": "29f0be5e-cfc1-417c-b774-03206ca3024e",
   "metadata": {},
   "source": [
    "Test to assert that scalar multiplcation result in a point that is on the curve"
   ]
  },
  {
   "cell_type": "code",
   "execution_count": 28,
   "id": "4b6fec1c-7560-46a9-a085-fdb6b7c67c45",
   "metadata": {
    "tags": []
   },
   "outputs": [
    {
     "name": "stdout",
     "output_type": "stream",
     "text": [
      "Curve y is X=53957576663012291606402345341061437133522758407718089353314528343643821967563|Y=98386217607324929854432842186271083758341411730506808463586570492533445740059 \n",
      "Curve=P|115792089237316195423570985008687907853269984665640564039457584007908834671663|A=0|B=7|N=115792089237316195423570985008687907852837564279074904382605163141518161494337|Gx=55066263022277343669578718895168534326250603453777594175500187360389116729240|Gy=32670510020758816978083085130507043184471273380659243275938904335757337482424\n"
     ]
    }
   ],
   "source": [
    "k = 11\n",
    "x = Point(g_x,g_y,curve )\n",
    "y = Point_Utils.mul(x,k)\n",
    "\n",
    "\n",
    "assert Point_Utils.not_equal(x,y)\n",
    "print(\"Curve y is {}\".format(y))\n",
    "\n",
    "assert y.curve.is_given_point_on_the_curve((y.x,y.y))\n"
   ]
  },
  {
   "cell_type": "markdown",
   "id": "b242d336-85e6-42db-a9b2-69f7cdf7e829",
   "metadata": {},
   "source": [
    "We create a class to generate the pub-prive key pair"
   ]
  },
  {
   "cell_type": "code",
   "execution_count": 47,
   "id": "04f12e7a-76b2-4884-a47e-2cc58d5f97b9",
   "metadata": {
    "tags": []
   },
   "outputs": [],
   "source": [
    "import random\n",
    "\n",
    "class Keys:\n",
    "    def _generate_priv_key(self,curve:Secp256k1) -> int:\n",
    "        return random.randint(1, curve.n-1)\n",
    "        \n",
    "    \n",
    "    def _generate_pub_key(self,curve:Secp256k1, private_key:int):\n",
    "\n",
    "        gx,gy = curve.get_G()\n",
    "        G = Point(gx,gy, curve)\n",
    "        public_key = Point_Utils.mul(G,private_key)\n",
    "        print(\"G is {}\".format(G))\n",
    "#         for _ in range(2):\n",
    "#             Q = Point_Utils.double(Q)\n",
    "            \n",
    "#         print(\"Q is now {}\".format(Q))\n",
    "#         public_key = None\n",
    "#         for bit in reversed(bin(private_key)[2:]):\n",
    "#             if public_key is None:\n",
    "#                 public_key = Q if bit == '1' else None\n",
    "#             else:\n",
    "#                 public_key = Point_Utils.add(public_key, public_key)\n",
    "        \n",
    "#             if bit == '1':\n",
    "#                 public_key = Point_Utils.add(public_key, Q)\n",
    "               \n",
    "        assert curve.is_given_point_on_the_curve((public_key.x, public_key.y))\n",
    "        return public_key\n",
    "       \n",
    "        \n",
    "    def __init__(self, curve:Secp256k1):\n",
    "            priv = self._generate_priv_key(curve)\n",
    "            pub = self._generate_pub_key(curve, priv)\n",
    "            self.priv = priv\n",
    "            self.pub = pub\n",
    "            self.priv_hash = hex(priv)[2:]\n",
    "            self.pub_hash = f\"04{pub.x:x}{pub.y:x}\"\n",
    "            print(\"Key is {}\".format(self))\n",
    "    \n",
    "    def __str__(self):\n",
    "        return f\"PRIV={self.priv} | PUB={self.pub}\"\n",
    "\n",
    "          "
   ]
  },
  {
   "cell_type": "markdown",
   "id": "9d2b4391-534f-4e10-a93c-600c0f01a9a5",
   "metadata": {},
   "source": [
    "Wrapper class for EDCSA"
   ]
  },
  {
   "cell_type": "code",
   "execution_count": 48,
   "id": "65cf952e-953b-4e87-a8ef-e65a7b9beab0",
   "metadata": {},
   "outputs": [],
   "source": [
    "import os\n",
    "import hashlib\n",
    "\n",
    "class EDCSA:\n",
    "    def __init__(self, curve:Secp256k1, nonce:int):\n",
    "        gx,gy = curve.get_G()\n",
    "        self.name = \"EDCSA\"\n",
    "        self.k = nonce\n",
    "        self.G = Point(gx,gy,curve)\n",
    "        self.R = Point_Utils.mul(self.G,nonce)\n",
    "    \n",
    "    \n",
    "    def sign(self,message:str, curve:Secp256k1, private_key:int):\n",
    "        encoded = message.encode('UTF-8')\n",
    "        e = int(hashlib.sha256(encoded).hexdigest(),16)\n",
    "        r = 0\n",
    "        s = 0\n",
    "        while r == 0 or s == 0:\n",
    "            r = self.R.x % curve.n\n",
    "            inv = pow(k,-1,curve.n)\n",
    "            rKey = private_key*r\n",
    "            print(\"inv is {}\".format(inv))\n",
    "            print(\"rKey is {}\".format(rKey))\n",
    "            s = (inv * (e + rKey)) % curve.n\n",
    "        return (r,s)\n",
    "            \n",
    "        \n",
    "    def verify(self,message:str, curve, signature, public_key):\n",
    "        encoded = message.encode('UTF-8')\n",
    "        e = int(hashlib.sha256(encoded).hexdigest(),16)\n",
    "        r,s = signature\n",
    "        w = pow(s,-1,curve.n)\n",
    "        u1 = (e * w) % curve.n\n",
    "        u2 = (r * w) % curve.n\n",
    "        P_1 = Point_Utils.mul(self.G,u1)\n",
    "        P_2 = Point_Utils.mul(public_key,u2)\n",
    "        P = Point_Utils.add(P_1,P_2)   \n",
    "        print(\"P.x is {}\".format( P.x))\n",
    "        print(\"P.y is {}\".format(P.y))\n",
    "        print(\"r is {}\".format( r))\n",
    "        print(\"q is {}\".format(curve.n))\n",
    "        print(\"P.x % curve.q is {}\".format(P.x % curve.n))\n",
    "        \n",
    "        return (P.x == r)\n",
    "        "
   ]
  },
  {
   "cell_type": "markdown",
   "id": "6c518498-a469-45ec-9113-f63954022997",
   "metadata": {},
   "source": [
    "Sign and verify a message using EDCSA"
   ]
  },
  {
   "cell_type": "code",
   "execution_count": 49,
   "id": "0f04ba46-1888-4734-9736-43a1fb00e2ac",
   "metadata": {
    "tags": []
   },
   "outputs": [
    {
     "name": "stdout",
     "output_type": "stream",
     "text": [
      "G is X=55066263022277343669578718895168534326250603453777594175500187360389116729240|Y=32670510020758816978083085130507043184471273380659243275938904335757337482424 \n",
      "Curve=P|115792089237316195423570985008687907853269984665640564039457584007908834671663|A=0|B=7|N=115792089237316195423570985008687907852837564279074904382605163141518161494337|Gx=55066263022277343669578718895168534326250603453777594175500187360389116729240|Gy=32670510020758816978083085130507043184471273380659243275938904335757337482424\n",
      "Key is PRIV=92469311027327620166066542685761197802161068316232095388862301726708790678843 | PUB=X=1736955886274455686439961981303978692037648134053627988707620612792789333897|Y=80840822520691105805797206872474311833302468519139730278830055473716495697811 \n",
      "Curve=P|115792089237316195423570985008687907853269984665640564039457584007908834671663|A=0|B=7|N=115792089237316195423570985008687907852837564279074904382605163141518161494337|Gx=55066263022277343669578718895168534326250603453777594175500187360389116729240|Gy=32670510020758816978083085130507043184471273380659243275938904335757337482424\n",
      "inv is 52569608513741552722301227193944310165188254182700006589702744066249245318429\n",
      "rKey is 9076527254941756534927945322776167478851691965586879493718857681506578956107019854933429421813266696922990150010387156240839340042473388170053429585750195\n",
      "Signed message is (98157184844378847712300751430746047072223144760326232749632461851893831557865, 67682175497559449593181494831997382104580731558698816497655583188019217586897)\n",
      "P.x is 98157184844378847712300751430746047072223144760326232749632461851893831557865\n",
      "P.y is 115470364491402892208710960201744921058293857236816801244268369981983180887387\n",
      "r is 98157184844378847712300751430746047072223144760326232749632461851893831557865\n",
      "q is 115792089237316195423570985008687907852837564279074904382605163141518161494337\n",
      "P.x % curve.q is 98157184844378847712300751430746047072223144760326232749632461851893831557865\n",
      "Message is valid\n"
     ]
    }
   ],
   "source": [
    "\n",
    "keys = Keys(curve)\n",
    "priv = keys.priv\n",
    "pub = keys.pub\n",
    "msg = \"Yay it works!\"\n",
    "k=500\n",
    "edcsa = EDCSA(curve,k)\n",
    "\n",
    "signature = edcsa.sign(message = msg, curve = curve, private_key = priv)\n",
    "print(\"Signed message is {}\".format(signature)) \n",
    "is_valid = edcsa.verify(msg,curve, signature, pub)\n",
    "if is_valid:\n",
    "    print(\"Message is valid\")\n",
    "else:\n",
    "    print(\"Message has been tampered with\")\n"
   ]
  }
 ],
 "metadata": {
  "kernelspec": {
   "display_name": "ZK RareSkills Kernel",
   "language": "python",
   "name": "python-zk"
  },
  "language_info": {
   "codemirror_mode": {
    "name": "ipython",
    "version": 3
   },
   "file_extension": ".py",
   "mimetype": "text/x-python",
   "name": "python",
   "nbconvert_exporter": "python",
   "pygments_lexer": "ipython3",
   "version": "3.10.9"
  }
 },
 "nbformat": 4,
 "nbformat_minor": 5
}
