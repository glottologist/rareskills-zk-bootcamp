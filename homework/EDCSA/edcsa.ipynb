{
 "cells": [
  {
   "cell_type": "markdown",
   "id": "1c1f0109-ff2c-4996-986c-8a91f9ac1645",
   "metadata": {},
   "source": [
    "# EDCSA from Scratch\n",
    "\n",
    "## Homework Guidelines\n",
    "\n",
    "Implement ECDSA from scratch. You want to use the secp256k1 curve. See here for a reference: https://www.rareskills.io/post/generate-ethereum-address-from-private-key-python\n",
    "\n",
    "1) pick a private key\n",
    "\n",
    "2) generate the public key using that private key (not the eth address, the public key)\n",
    "\n",
    "3) pick message m and hash it to produce h (h can be though of as a 256 bit number)\n",
    "\n",
    "4) sign m using your private key and a randomly chosen nonce k. produce (r, s, h, PubKey)\n",
    "\n",
    "5) verify (r, s, h, PubKey) is valid\n",
    "\n",
    "You may use a library for point multiplication, but everything else you must do from scratch"
   ]
  },
  {
   "cell_type": "markdown",
   "id": "cd01e96b-5499-407c-bb12-9c379778cf7d",
   "metadata": {},
   "source": [
    "## Answer\n",
    "\n",
    "First we will set up an object to define the parameters of the secp256k1 curve:\n",
    "\n",
    "p (int): The value of `p` in the curve equation.\n",
    "a (int): The value of `a` in the curve equation.\n",
    "b (int): The value of `b` in the curve equation.\n",
    "q (int): The order of the base point of the curve.\n",
    "gx (int): The x coordinate of the base point of the curve.\n",
    "gy (int): The y coordinate of the base point of the curve.\n",
    "\n",
    "(Also some helper functions to assist with checking is the point if on the curve etc)"
   ]
  },
  {
   "cell_type": "code",
   "execution_count": 175,
   "id": "fd46e13c-b519-4aac-83a7-114c3b0a3b72",
   "metadata": {
    "tags": []
   },
   "outputs": [],
   "source": [
    "class Secp256k1:\n",
    "    def __init__(self):\n",
    "        self.p = 0xFFFFFFFFFFFFFFFFFFFFFFFFFFFFFFFFFFFFFFFFFFFFFFFFFFFFFFFEFFFFFC2F\n",
    "        self.a = 0x0\n",
    "        self.b = 0x7\n",
    "        self.n = 0xFFFFFFFFFFFFFFFFFFFFFFFFFFFFFFFEBAAEDCE6AF48A03BBFD25E8CD0364141\n",
    "        self.gx = 0x79BE667EF9DCBBAC55A06295CE870B07029BFCDB2DCE28D959F2815B16F81798\n",
    "        self.gy = 0x483ADA7726A3C4655DA4FBFC0E1108A8FD17B448A68554199C47D08FFB10D4B8\n",
    "    \n",
    "    def is_given_point_on_the_curve(self, point: (int, int)) -> bool:\n",
    "        x, y, = point\n",
    "        if x == 0 and y == 0:\n",
    "            return True # Identity should be on the curve\n",
    "        left = (y**2) % self.p\n",
    "        right = (x**3 + self.a * x + self.b) % self.p\n",
    "        return left == right\n",
    "    \n",
    "    def check(self, x: int) -> int:\n",
    "        return (x ** 3 + self.a * x + self.b) % self.p\n",
    "    \n",
    "    def get_G(self) -> (int,int):\n",
    "        return (self.gx,self.gy)\n",
    "    \n",
    "    def __str__(self):\n",
    "        return f\"P|{self.p}|A={self.a}|B={self.b}|N={self.n}|Gx={self.gx}|Gy={self.gy}\"\n"
   ]
  },
  {
   "cell_type": "markdown",
   "id": "8b662a25-4fe5-48b1-9879-1114170d10cb",
   "metadata": {
    "tags": []
   },
   "source": [
    "Next define a class where we can encompass the point arithmetic"
   ]
  },
  {
   "cell_type": "code",
   "execution_count": 177,
   "id": "a2443734-4afd-4254-a0ce-5d34d1c023cd",
   "metadata": {
    "tags": []
   },
   "outputs": [],
   "source": [
    "class Point:\n",
    "    def __init__(self, x: int, y: int, curve: Secp256k1):\n",
    "        if curve is not None:\n",
    "            x = x % curve.p\n",
    "            y = y % curve.p\n",
    "\n",
    "        if not (x == 0 and y == 0) and not curve.is_given_point_on_the_curve((x, y)):\n",
    "            raise ValueError(\n",
    "                'x and y are not on curve x={} y={}'.format(x, y))\n",
    "        else:\n",
    "            self.x = x\n",
    "            self.y = y\n",
    "            self.curve = curve\n",
    "            \n",
    "    def __str__(self):\n",
    "        return f\"X={self.x}|Y={self.y} \\nCurve={self.curve}\"\n",
    "\n",
    "\n",
    "class Point_Utils:\n",
    "    \n",
    "    def double(that:Point) -> Point:\n",
    "        lambda_ = (3 * that.x**2 + that.curve.a) * pow(2 * that.y, -1, that.curve.p)\n",
    "        x_r = (lambda_**2 - 2 * that.x) % that.curve.p\n",
    "        y_r = (lambda_ * (that.x - x_r) - that.y) % that.curve.p\n",
    "        return Point(x_r, y_r,that.curve)\n",
    "                \n",
    "    def equals(this:Point,that:Point) -> bool:\n",
    "        return this.x == that.x and this.y == that.y \n",
    "    \n",
    "    def not_equal(this:Point, that:Point) -> bool:\n",
    "        return not Point_Utils.equals(this,that)\n",
    "    \n",
    "    def add(this:Point, that:Point) -> Point:\n",
    "        if this is None or this.curve is None:\n",
    "            return that\n",
    "       \n",
    "        if that is None or that.curve is None:\n",
    "            return this\n",
    "        \n",
    "        if Point_Utils.equals(this,that):\n",
    "            return Point_Utils.double(that)\n",
    "                          \n",
    "        if this.x == that.x:\n",
    "            return Point.IDENTITIY_ELEMENT\n",
    "        \n",
    "        lambda_ = (that.y - this.y) * pow(that.x - this.x, -1,this.curve.p)\n",
    "\n",
    "        x3 = (lambda_**2 - this.x - that.x) % this.curve.p\n",
    "        y3 = (lambda_ * (this.x - x3) - this.y) % this.curve.p\n",
    "\n",
    "        return Point(x3, y3, this.curve)\n",
    "        \n",
    "        \n",
    "        \n",
    "    def sub(this:Point, that:Point) -> Point:\n",
    "        return add(this, Point(-that.x, -that.y))\n",
    "    \n",
    "    def mul(that:Point, k:int) -> Point:\n",
    "        R0 = Point.IDENTITY_ELEMENT\n",
    "        R1 = that\n",
    "        for bit in bin(k)[2:]:\n",
    "            if bit == '0':\n",
    "                R1 = Point_Utils.add(R0,R1)\n",
    "                R0 = Point_Utils.double(R0)\n",
    "            else:\n",
    "                R0 = Point_Utils.add(R0, R1)\n",
    "                R1 = Point_Utils.double(R1)\n",
    "        return R0\n",
    "        \n",
    "    Point.IDENTITY_ELEMENT = Point(0, 0, None) \n",
    "   "
   ]
  },
  {
   "cell_type": "markdown",
   "id": "31830df8-4998-440e-96e2-42e6f2c4c2d7",
   "metadata": {},
   "source": [
    "Test to assert that double and additon result in points that are on the curve"
   ]
  },
  {
   "cell_type": "code",
   "execution_count": 178,
   "id": "786d5f91-0655-4094-856b-a2b782653fee",
   "metadata": {
    "tags": []
   },
   "outputs": [
    {
     "name": "stdout",
     "output_type": "stream",
     "text": [
      "Curve a is X=55066263022277343669578718895168534326250603453777594175500187360389116729240|Y=32670510020758816978083085130507043184471273380659243275938904335757337482424 \n",
      "Curve=P|115792089237316195423570985008687907853269984665640564039457584007908834671663|A=0|B=7|N=115792089237316195423570985008687907852837564279074904382605163141518161494337|Gx=55066263022277343669578718895168534326250603453777594175500187360389116729240|Gy=32670510020758816978083085130507043184471273380659243275938904335757337482424\n",
      "Curve b is X=89565891926547004231252920425935692360644145829622209833684329913297188986597|Y=12158399299693830322967808612713398636155367887041628176798871954788371653930 \n",
      "Curve=P|115792089237316195423570985008687907853269984665640564039457584007908834671663|A=0|B=7|N=115792089237316195423570985008687907852837564279074904382605163141518161494337|Gx=55066263022277343669578718895168534326250603453777594175500187360389116729240|Gy=32670510020758816978083085130507043184471273380659243275938904335757337482424\n",
      "Curve c is X=112711660439710606056748659173929673102114977341539408544630613555209775888121|Y=25583027980570883691656905877401976406448868254816295069919888960541586679410 \n",
      "Curve=P|115792089237316195423570985008687907853269984665640564039457584007908834671663|A=0|B=7|N=115792089237316195423570985008687907852837564279074904382605163141518161494337|Gx=55066263022277343669578718895168534326250603453777594175500187360389116729240|Gy=32670510020758816978083085130507043184471273380659243275938904335757337482424\n"
     ]
    }
   ],
   "source": [
    "curve = Secp256k1()\n",
    "g_x,g_y = curve.get_G()\n",
    "\n",
    "a = Point(g_x,g_y,curve )\n",
    "print(\"Curve a is {}\".format(a))\n",
    "\n",
    "b = Point_Utils.double(a)\n",
    "assert Point_Utils.not_equal(a,b)\n",
    "print(\"Curve b is {}\".format(b))\n",
    "\n",
    "c = Point_Utils.add(a,b)\n",
    "assert Point_Utils.not_equal(a,c)\n",
    "assert Point_Utils.not_equal(c,b)\n",
    "print(\"Curve c is {}\".format(c))\n",
    "\n",
    "assert c.curve.is_given_point_on_the_curve((c.x,c.y)) == True\n"
   ]
  },
  {
   "cell_type": "markdown",
   "id": "29f0be5e-cfc1-417c-b774-03206ca3024e",
   "metadata": {},
   "source": [
    "Test to assert that scalar multiplcation result in a point that is on the curve"
   ]
  },
  {
   "cell_type": "code",
   "execution_count": 179,
   "id": "4b6fec1c-7560-46a9-a085-fdb6b7c67c45",
   "metadata": {
    "tags": []
   },
   "outputs": [
    {
     "name": "stdout",
     "output_type": "stream",
     "text": [
      "Curve y is X=53957576663012291606402345341061437133522758407718089353314528343643821967563|Y=98386217607324929854432842186271083758341411730506808463586570492533445740059 \n",
      "Curve=P|115792089237316195423570985008687907853269984665640564039457584007908834671663|A=0|B=7|N=115792089237316195423570985008687907852837564279074904382605163141518161494337|Gx=55066263022277343669578718895168534326250603453777594175500187360389116729240|Gy=32670510020758816978083085130507043184471273380659243275938904335757337482424\n"
     ]
    }
   ],
   "source": [
    "k = 11\n",
    "x = Point(g_x,g_y,curve )\n",
    "y = Point_Utils.mul(x,k)\n",
    "\n",
    "\n",
    "assert Point_Utils.not_equal(x,y)\n",
    "print(\"Curve y is {}\".format(y))\n",
    "\n",
    "assert y.curve.is_given_point_on_the_curve((y.x,y.y))\n"
   ]
  },
  {
   "cell_type": "markdown",
   "id": "b242d336-85e6-42db-a9b2-69f7cdf7e829",
   "metadata": {},
   "source": [
    "We create a class to generate the pub-prive key pair"
   ]
  },
  {
   "cell_type": "code",
   "execution_count": 183,
   "id": "04f12e7a-76b2-4884-a47e-2cc58d5f97b9",
   "metadata": {
    "tags": []
   },
   "outputs": [],
   "source": [
    "import random\n",
    "\n",
    "class Keys:\n",
    "    def _generate_priv_key(self,curve:Secp256k1) -> int:\n",
    "        return random.randint(1, curve.n - 1)\n",
    "    \n",
    "    def _generate_pub_key(self,curve:Secp256k1, private_key:int):\n",
    "        public_key = None\n",
    "        gx,gy = curve.get_G()\n",
    "        Q = Point(gx,gy, curve)\n",
    "        print(\"Q is {}\".format(Q))\n",
    "        for _ in range(2):\n",
    "            Q = Point_Utils.double(Q)\n",
    "            \n",
    "        print(\"Q is now {}\".format(Q))\n",
    "        public_key = None\n",
    "        for bit in reversed(bin(private_key)[2:]):\n",
    "            if public_key is None:\n",
    "                public_key = Q if bit == '1' else None\n",
    "            else:\n",
    "                public_key = Point_Utils.add(public_key, public_key)\n",
    "        \n",
    "            if bit == '1':\n",
    "                public_key = Point_Utils.add(public_key, Q)\n",
    "                \n",
    "        return public_key\n",
    "       \n",
    "        \n",
    "    def __init__(self, curve:Secp256k1):\n",
    "            priv = self._generate_priv_key(curve)\n",
    "            pub = self._generate_pub_key(curve, priv)\n",
    "            self.priv = priv\n",
    "            self.pub = pub\n",
    "            self.priv_hash = hex(priv)[2:]\n",
    "            self.pub_hash = f\"04{pub.x:x}{pub.y:x}\"\n",
    "            print(\"Key is {}\".format(self))\n",
    "    \n",
    "    def __str__(self):\n",
    "        return f\"PRIV={self.priv} | PUB={self.pub}\"\n",
    "\n",
    "          "
   ]
  },
  {
   "cell_type": "markdown",
   "id": "aec2ccca-5b18-4bfc-be0f-856e9de808ce",
   "metadata": {},
   "source": [
    "Test the SHA256 with an expected hash"
   ]
  },
  {
   "cell_type": "code",
   "execution_count": 184,
   "id": "b5063cdd-d096-4347-81d7-b506717944d8",
   "metadata": {
    "tags": []
   },
   "outputs": [
    {
     "name": "stdout",
     "output_type": "stream",
     "text": [
      "Version is {} 3\n",
      "Hashed message is {} ff90787c2e04b59bbc23647a4d00026cafd4b24e6538a0cc60cf20fe992c1c26\n"
     ]
    }
   ],
   "source": [
    "import hashlib\n",
    "print(\"Version is {}\",sys.version_info.major)\n",
    "message = b\"Yay it works!\"\n",
    "hashed_message = hashlib.sha256(message).hexdigest()\n",
    "print(\"Hashed message is {}\",hashed_message)\n",
    "expected = \"ff90787c2e04b59bbc23647a4d00026cafd4b24e6538a0cc60cf20fe992c1c26\"\n",
    "assert expected == hashed_message"
   ]
  },
  {
   "cell_type": "code",
   "execution_count": 201,
   "id": "65cf952e-953b-4e87-a8ef-e65a7b9beab0",
   "metadata": {},
   "outputs": [],
   "source": [
    "import os\n",
    "import hashlib\n",
    "\n",
    "class EDCSA:\n",
    "    def __init__(self, curve:Secp256k1, nonce:int):\n",
    "        gx,gy = curve.get_G()\n",
    "        self.name = \"EDCSA\"\n",
    "        self.k = nonce\n",
    "        self.G = Point(gx,gy,curve)\n",
    "        self.R = Point_Utils.mul(self.G,nonce)\n",
    "    \n",
    "    \n",
    "    def sign(self,message:str, curve:Secp256k1, private_key:int):\n",
    "        encoded = message.encode('UTF-8')\n",
    "        e = int(hashlib.sha256(encoded).hexdigest(),16)\n",
    "        r = 0\n",
    "        s = 0\n",
    "        while r == 0 or s == 0:\n",
    "            r = self.R.x % curve.n\n",
    "            inv = pow(k,-1,curve.n)\n",
    "            rKey = private_key*r\n",
    "            print(\"inv is {}\".format(inv))\n",
    "            print(\"rKey is {}\".format(rKey))\n",
    "            s = (inv * (e + rKey)) % curve.n\n",
    "        return (r,s)\n",
    "            \n",
    "        \n",
    "    def verify(self,message:str, curve, signature, public_key):\n",
    "        encoded = message.encode('UTF-8')\n",
    "        e = int(hashlib.sha256(encoded).hexdigest(),16)\n",
    "        r,s = signature\n",
    "        w = pow(s,-1,curve.n)\n",
    "        u1 = (e * w) % curve.n\n",
    "        u2 = (r * w) % curve.n\n",
    "        P_1 = Point_Utils.mul(self.G,u1)\n",
    "        P_2 = Point_Utils.mul(public_key,u2)\n",
    "        P = Point_Utils.add(P_1,P_2)   \n",
    "        print(\"P.x is {}\".format( P.x))\n",
    "        print(\"P.y is {}\".format(P.y))\n",
    "        print(\"r is {}\".format( r))\n",
    "        print(\"q is {}\".format(curve.n))\n",
    "        print(\"P.x % curve.q is {}\".format(P.x % curve.n))\n",
    "        \n",
    "        return (P.x == r)\n",
    "        "
   ]
  },
  {
   "cell_type": "markdown",
   "id": "6c518498-a469-45ec-9113-f63954022997",
   "metadata": {},
   "source": [
    "Sign and verify a message using EDCSA"
   ]
  },
  {
   "cell_type": "code",
   "execution_count": 202,
   "id": "0f04ba46-1888-4734-9736-43a1fb00e2ac",
   "metadata": {
    "tags": []
   },
   "outputs": [
    {
     "name": "stdout",
     "output_type": "stream",
     "text": [
      "Q is X=55066263022277343669578718895168534326250603453777594175500187360389116729240|Y=32670510020758816978083085130507043184471273380659243275938904335757337482424 \n",
      "Curve=P|115792089237316195423570985008687907853269984665640564039457584007908834671663|A=0|B=7|N=115792089237316195423570985008687907852837564279074904382605163141518161494337|Gx=55066263022277343669578718895168534326250603453777594175500187360389116729240|Gy=32670510020758816978083085130507043184471273380659243275938904335757337482424\n",
      "Q is now X=103388573995635080359749164254216598308788835304023601477803095234286494993683|Y=37057141145242123013015316630864329550140216928701153669873286428255828810018 \n",
      "Curve=P|115792089237316195423570985008687907853269984665640564039457584007908834671663|A=0|B=7|N=115792089237316195423570985008687907852837564279074904382605163141518161494337|Gx=55066263022277343669578718895168534326250603453777594175500187360389116729240|Gy=32670510020758816978083085130507043184471273380659243275938904335757337482424\n",
      "Key is PRIV=10694156269127635652920303405980356095121267388019554460747451965841620123334 | PUB=X=97058580778630919481488451340155220616980087831195879517664824644787938919136|Y=84050473728151103751599027735327035574954664251607028203405684792784194715427 \n",
      "Curve=P|115792089237316195423570985008687907853269984665640564039457584007908834671663|A=0|B=7|N=115792089237316195423570985008687907852837564279074904382605163141518161494337|Gx=55066263022277343669578718895168534326250603453777594175500187360389116729240|Gy=32670510020758816978083085130507043184471273380659243275938904335757337482424\n",
      "inv is 52569608513741552722301227193944310165188254182700006589702744066249245318429\n",
      "rKey is 1049708273663434200049928593623017016575075981061058653727319101268474229895401353438670176207417766171166193142008879775871854684166142011929162657721910\n",
      "Signed message is (98157184844378847712300751430746047072223144760326232749632461851893831557865, 39861134020944356441544692578593117753116433026851191944308941470868909788011)\n",
      "P.x is 67013150840079109025591277577764577839333854503778276630511268181861841451244\n",
      "P.y is 5218188986180509912686847442201034807840377269109861670224785484450715269529\n",
      "r is 98157184844378847712300751430746047072223144760326232749632461851893831557865\n",
      "q is 115792089237316195423570985008687907852837564279074904382605163141518161494337\n",
      "P.x % curve.q is 67013150840079109025591277577764577839333854503778276630511268181861841451244\n",
      "Message has been tampered with\n"
     ]
    }
   ],
   "source": [
    "\n",
    "keys = Keys(curve)\n",
    "priv = keys.priv\n",
    "pub = keys.pub\n",
    "msg = \"Yay it works!\"\n",
    "k=500\n",
    "edcsa = EDCSA(curve,k)\n",
    "\n",
    "signature = edcsa.sign(message = msg, curve = curve, private_key = priv)\n",
    "print(\"Signed message is {}\".format(signed)) \n",
    "is_valid = edcsa.verify(msg,curve, signature, pub)\n",
    "if is_valid:\n",
    "    print(\"Message is valid\")\n",
    "else:\n",
    "    print(\"Message has been tampered with\")\n"
   ]
  },
  {
   "cell_type": "code",
   "execution_count": null,
   "id": "bfcaf684-8dcb-4979-b634-004e539472b6",
   "metadata": {},
   "outputs": [],
   "source": []
  }
 ],
 "metadata": {
  "kernelspec": {
   "display_name": "ZK RareSkills Kernel",
   "language": "python",
   "name": "python-zk"
  },
  "language_info": {
   "codemirror_mode": {
    "name": "ipython",
    "version": 3
   },
   "file_extension": ".py",
   "mimetype": "text/x-python",
   "name": "python",
   "nbconvert_exporter": "python",
   "pygments_lexer": "ipython3",
   "version": "3.10.9"
  }
 },
 "nbformat": 4,
 "nbformat_minor": 5
}
